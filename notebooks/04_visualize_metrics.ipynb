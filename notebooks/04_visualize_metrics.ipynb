{
 "cells": [
  {
   "cell_type": "code",
   "execution_count": 1,
   "id": "55fe5bac",
   "metadata": {},
   "outputs": [],
   "source": [
    "import sys\n",
    "import os\n",
    "\n",
    "# Add ../src to Python path so you can import preprocess.py\n",
    "sys.path.append(os.path.abspath(\"../src\"))"
   ]
  },
  {
   "cell_type": "code",
   "execution_count": 2,
   "id": "eab2190a",
   "metadata": {},
   "outputs": [
    {
     "name": "stderr",
     "output_type": "stream",
     "text": [
      "/Users/vikashranjan/Desktop/programming/AIML_Classes/miniproject-1/.venv/lib/python3.12/site-packages/dask_glm/__init__.py:1: UserWarning: pkg_resources is deprecated as an API. See https://setuptools.pypa.io/en/latest/pkg_resources.html. The pkg_resources package is slated for removal as early as 2025-11-30. Refrain from using this package or pin to Setuptools<81.\n",
      "  from pkg_resources import DistributionNotFound, get_distribution\n",
      "/Users/vikashranjan/Desktop/programming/AIML_Classes/miniproject-1/.venv/lib/python3.12/site-packages/distributed/node.py:187: UserWarning: Port 8787 is already in use.\n",
      "Perhaps you already have a cluster running?\n",
      "Hosting the HTTP server on port 53538 instead\n",
      "  warnings.warn(\n"
     ]
    },
    {
     "name": "stdout",
     "output_type": "stream",
     "text": [
      "Dask client started:\n",
      "http://127.0.0.1:53538/status\n"
     ]
    },
    {
     "name": "stderr",
     "output_type": "stream",
     "text": [
      "/Users/vikashranjan/Desktop/programming/AIML_Classes/miniproject-1/.venv/lib/python3.12/site-packages/dask_glm/__init__.py:1: UserWarning: pkg_resources is deprecated as an API. See https://setuptools.pypa.io/en/latest/pkg_resources.html. The pkg_resources package is slated for removal as early as 2025-11-30. Refrain from using this package or pin to Setuptools<81.\n",
      "  from pkg_resources import DistributionNotFound, get_distribution\n",
      "/Users/vikashranjan/Desktop/programming/AIML_Classes/miniproject-1/.venv/lib/python3.12/site-packages/dask_glm/__init__.py:1: UserWarning: pkg_resources is deprecated as an API. See https://setuptools.pypa.io/en/latest/pkg_resources.html. The pkg_resources package is slated for removal as early as 2025-11-30. Refrain from using this package or pin to Setuptools<81.\n",
      "  from pkg_resources import DistributionNotFound, get_distribution\n",
      "/Users/vikashranjan/Desktop/programming/AIML_Classes/miniproject-1/.venv/lib/python3.12/site-packages/dask_glm/__init__.py:1: UserWarning: pkg_resources is deprecated as an API. See https://setuptools.pypa.io/en/latest/pkg_resources.html. The pkg_resources package is slated for removal as early as 2025-11-30. Refrain from using this package or pin to Setuptools<81.\n",
      "  from pkg_resources import DistributionNotFound, get_distribution\n"
     ]
    },
    {
     "name": "stdout",
     "output_type": "stream",
     "text": [
      "✅ Confusion matrix saved to: visualizations/confusion_matrix.png\n",
      "\n",
      "📋 Classification Report:\n",
      "              precision    recall  f1-score   support\n",
      "\n",
      "           0       0.50      0.00      0.00    132093\n",
      "           1       0.78      1.00      0.87    459239\n",
      "\n",
      "    accuracy                           0.78    591332\n",
      "   macro avg       0.64      0.50      0.44    591332\n",
      "weighted avg       0.71      0.78      0.68    591332\n",
      "\n"
     ]
    },
    {
     "data": {
      "text/plain": [
       "'              precision    recall  f1-score   support\\n\\n           0       0.50      0.00      0.00    132093\\n           1       0.78      1.00      0.87    459239\\n\\n    accuracy                           0.78    591332\\n   macro avg       0.64      0.50      0.44    591332\\nweighted avg       0.71      0.78      0.68    591332\\n'"
      ]
     },
     "execution_count": 2,
     "metadata": {},
     "output_type": "execute_result"
    }
   ],
   "source": [
    "from setup_dask import start_dask\n",
    "from preprocess import load_and_clean_data\n",
    "from dask_ml.model_selection import train_test_split\n",
    "from dask_ml.linear_model import LogisticRegression\n",
    "from visualize import plot_confusion_matrix, print_classification_report\n",
    "\n",
    "# Start Dask\n",
    "client = start_dask()\n",
    "\n",
    "# Load & preprocess data\n",
    "df = load_and_clean_data()\n",
    "\n",
    "# Train/test split\n",
    "X = df.drop(\"is_tip\", axis=1).to_dask_array(lengths=True)\n",
    "y = df[\"is_tip\"].to_dask_array(lengths=True)\n",
    "X_train, X_test, y_train, y_test = train_test_split(X, y, test_size=0.2)\n",
    "\n",
    "# Train model\n",
    "model = LogisticRegression()\n",
    "model.fit(X_train, y_train)\n",
    "\n",
    "# Predict\n",
    "y_pred = model.predict(X_test)\n",
    "\n",
    "# Evaluate\n",
    "y_true = y_test.compute()\n",
    "y_pred = y_pred.compute()\n",
    "\n",
    "# Visualization\n",
    "plot_confusion_matrix(y_true, y_pred)\n",
    "print_classification_report(y_true, y_pred)"
   ]
  }
 ],
 "metadata": {
  "kernelspec": {
   "display_name": ".venv",
   "language": "python",
   "name": "python3"
  },
  "language_info": {
   "codemirror_mode": {
    "name": "ipython",
    "version": 3
   },
   "file_extension": ".py",
   "mimetype": "text/x-python",
   "name": "python",
   "nbconvert_exporter": "python",
   "pygments_lexer": "ipython3",
   "version": "3.12.10"
  }
 },
 "nbformat": 4,
 "nbformat_minor": 5
}
