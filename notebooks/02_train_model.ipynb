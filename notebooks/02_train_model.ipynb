{
 "cells": [
  {
   "cell_type": "code",
   "execution_count": 1,
   "id": "f3bedef0",
   "metadata": {},
   "outputs": [],
   "source": [
    "import sys\n",
    "import os\n",
    "\n",
    "# Add ../src to Python path so you can import preprocess.py\n",
    "sys.path.append(os.path.abspath(\"../src\"))\n",
    "\n",
    "from preprocess import load_and_clean_data\n"
   ]
  },
  {
   "cell_type": "code",
   "execution_count": 2,
   "id": "db254e5e",
   "metadata": {},
   "outputs": [
    {
     "name": "stdout",
     "output_type": "stream",
     "text": [
      "✅ pkg_resources is now available.\n"
     ]
    },
    {
     "name": "stderr",
     "output_type": "stream",
     "text": [
      "/var/folders/8d/s5m85s5s453grtr9g_svbcrc0000gn/T/ipykernel_3470/1827184733.py:1: UserWarning: pkg_resources is deprecated as an API. See https://setuptools.pypa.io/en/latest/pkg_resources.html. The pkg_resources package is slated for removal as early as 2025-11-30. Refrain from using this package or pin to Setuptools<81.\n",
      "  import pkg_resources\n"
     ]
    }
   ],
   "source": [
    "import pkg_resources\n",
    "print(\"✅ pkg_resources is now available.\")\n"
   ]
  },
  {
   "cell_type": "code",
   "execution_count": 3,
   "id": "37ae5dc8",
   "metadata": {},
   "outputs": [
    {
     "name": "stderr",
     "output_type": "stream",
     "text": [
      "/Users/vikashranjan/Desktop/programming/AIML_Classes/miniproject-1/.venv/lib/python3.12/site-packages/distributed/node.py:187: UserWarning: Port 8787 is already in use.\n",
      "Perhaps you already have a cluster running?\n",
      "Hosting the HTTP server on port 52210 instead\n",
      "  warnings.warn(\n"
     ]
    },
    {
     "name": "stdout",
     "output_type": "stream",
     "text": [
      "Dask client started:\n",
      "http://127.0.0.1:52210/status\n"
     ]
    },
    {
     "name": "stderr",
     "output_type": "stream",
     "text": [
      "/Users/vikashranjan/Desktop/programming/AIML_Classes/miniproject-1/.venv/lib/python3.12/site-packages/dask_glm/__init__.py:1: UserWarning: pkg_resources is deprecated as an API. See https://setuptools.pypa.io/en/latest/pkg_resources.html. The pkg_resources package is slated for removal as early as 2025-11-30. Refrain from using this package or pin to Setuptools<81.\n",
      "  from pkg_resources import DistributionNotFound, get_distribution\n",
      "/Users/vikashranjan/Desktop/programming/AIML_Classes/miniproject-1/.venv/lib/python3.12/site-packages/dask_glm/__init__.py:1: UserWarning: pkg_resources is deprecated as an API. See https://setuptools.pypa.io/en/latest/pkg_resources.html. The pkg_resources package is slated for removal as early as 2025-11-30. Refrain from using this package or pin to Setuptools<81.\n",
      "  from pkg_resources import DistributionNotFound, get_distribution\n",
      "/Users/vikashranjan/Desktop/programming/AIML_Classes/miniproject-1/.venv/lib/python3.12/site-packages/dask_glm/__init__.py:1: UserWarning: pkg_resources is deprecated as an API. See https://setuptools.pypa.io/en/latest/pkg_resources.html. The pkg_resources package is slated for removal as early as 2025-11-30. Refrain from using this package or pin to Setuptools<81.\n",
      "  from pkg_resources import DistributionNotFound, get_distribution\n",
      "/Users/vikashranjan/Desktop/programming/AIML_Classes/miniproject-1/.venv/lib/python3.12/site-packages/dask_glm/__init__.py:1: UserWarning: pkg_resources is deprecated as an API. See https://setuptools.pypa.io/en/latest/pkg_resources.html. The pkg_resources package is slated for removal as early as 2025-11-30. Refrain from using this package or pin to Setuptools<81.\n",
      "  from pkg_resources import DistributionNotFound, get_distribution\n"
     ]
    },
    {
     "name": "stdout",
     "output_type": "stream",
     "text": [
      "\n",
      "🔍 Accuracy: 0.7767\n",
      "\n",
      "📋 Classification Report:\n",
      "              precision    recall  f1-score   support\n",
      "\n",
      "           0       0.00      0.00      0.00    132016\n",
      "           1       0.78      1.00      0.87    459316\n",
      "\n",
      "    accuracy                           0.78    591332\n",
      "   macro avg       0.39      0.50      0.44    591332\n",
      "weighted avg       0.60      0.78      0.68    591332\n",
      "\n"
     ]
    }
   ],
   "source": [
    "from setup_dask import start_dask\n",
    "from preprocess import load_and_clean_data\n",
    "from train_model import train_model\n",
    "\n",
    "# Start Dask\n",
    "client = start_dask()\n",
    "\n",
    "# Load and preprocess data\n",
    "df = load_and_clean_data()\n",
    "\n",
    "# Train model and evaluate\n",
    "model, acc, report = train_model(df)\n"
   ]
  }
 ],
 "metadata": {
  "kernelspec": {
   "display_name": ".venv",
   "language": "python",
   "name": "python3"
  },
  "language_info": {
   "codemirror_mode": {
    "name": "ipython",
    "version": 3
   },
   "file_extension": ".py",
   "mimetype": "text/x-python",
   "name": "python",
   "nbconvert_exporter": "python",
   "pygments_lexer": "ipython3",
   "version": "3.12.10"
  }
 },
 "nbformat": 4,
 "nbformat_minor": 5
}
